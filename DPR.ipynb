{
  "nbformat": 4,
  "nbformat_minor": 0,
  "metadata": {
    "colab": {
      "name": "DPR.ipynb",
      "provenance": [],
      "collapsed_sections": []
    },
    "kernelspec": {
      "name": "python3",
      "display_name": "Python 3"
    }
  },
  "cells": [
    {
      "cell_type": "code",
      "metadata": {
        "id": "l4ySGClDtpz-",
        "outputId": "26cb6282-581c-48fd-daad-5c618fe46ea8",
        "colab": {
          "base_uri": "https://localhost:8080/",
          "height": 163
        }
      },
      "source": [
        "! git clone https://github.com/facebookresearch/DPR\n",
        "! python --version # now returns Python 3.6.5 :: Anaconda, Inc."
      ],
      "execution_count": 1,
      "outputs": [
        {
          "output_type": "stream",
          "text": [
            "Cloning into 'DPR'...\n",
            "remote: Enumerating objects: 146, done.\u001b[K\n",
            "remote: Counting objects: 100% (146/146), done.\u001b[K\n",
            "remote: Compressing objects: 100% (92/92), done.\u001b[K\n",
            "remote: Total 409 (delta 88), reused 96 (delta 51), pack-reused 263\u001b[K\n",
            "Receiving objects: 100% (409/409), 214.66 KiB | 418.00 KiB/s, done.\n",
            "Resolving deltas: 100% (232/232), done.\n",
            "Python 3.6.9\n"
          ],
          "name": "stdout"
        }
      ]
    },
    {
      "cell_type": "code",
      "metadata": {
        "id": "aQPmFFL5tvLr",
        "outputId": "fa5b16df-3bc8-44ec-ca21-2730f31a5d32",
        "colab": {
          "base_uri": "https://localhost:8080/",
          "height": 1000
        }
      },
      "source": [
        "%%shell\n",
        "cd DPR\n",
        "pip install ."
      ],
      "execution_count": 2,
      "outputs": [
        {
          "output_type": "stream",
          "text": [
            "Processing /content/DPR\n",
            "Requirement already satisfied: cython in /usr/local/lib/python3.6/dist-packages (from dpr==0.1.0) (0.29.21)\n",
            "Collecting faiss-cpu>=1.6.1\n",
            "\u001b[?25l  Downloading https://files.pythonhosted.org/packages/0e/6b/51321f5b34507dc1cb2b17e02e740acacd4ac818ed4b66670c24dd71347b/faiss_cpu-1.6.4-cp36-cp36m-manylinux2014_x86_64.whl (7.9MB)\n",
            "\u001b[K     |████████████████████████████████| 7.9MB 2.3MB/s \n",
            "\u001b[?25hRequirement already satisfied: filelock in /usr/local/lib/python3.6/dist-packages (from dpr==0.1.0) (3.0.12)\n",
            "Requirement already satisfied: numpy in /usr/local/lib/python3.6/dist-packages (from dpr==0.1.0) (1.18.5)\n",
            "Requirement already satisfied: regex in /usr/local/lib/python3.6/dist-packages (from dpr==0.1.0) (2019.12.20)\n",
            "Requirement already satisfied: torch>=1.2.0 in /usr/local/lib/python3.6/dist-packages (from dpr==0.1.0) (1.6.0+cu101)\n",
            "Collecting transformers<3.1.0,>=3.0.0\n",
            "\u001b[?25l  Downloading https://files.pythonhosted.org/packages/27/3c/91ed8f5c4e7ef3227b4119200fc0ed4b4fd965b1f0172021c25701087825/transformers-3.0.2-py3-none-any.whl (769kB)\n",
            "\u001b[K     |████████████████████████████████| 778kB 18.8MB/s \n",
            "\u001b[?25hRequirement already satisfied: tqdm>=4.27 in /usr/local/lib/python3.6/dist-packages (from dpr==0.1.0) (4.41.1)\n",
            "Collecting wget\n",
            "  Downloading https://files.pythonhosted.org/packages/47/6a/62e288da7bcda82b935ff0c6cfe542970f04e29c756b0e147251b2fb251f/wget-3.2.zip\n",
            "Requirement already satisfied: spacy>=2.1.8 in /usr/local/lib/python3.6/dist-packages (from dpr==0.1.0) (2.2.4)\n",
            "Requirement already satisfied: future in /usr/local/lib/python3.6/dist-packages (from torch>=1.2.0->dpr==0.1.0) (0.16.0)\n",
            "Collecting sacremoses\n",
            "\u001b[?25l  Downloading https://files.pythonhosted.org/packages/7d/34/09d19aff26edcc8eb2a01bed8e98f13a1537005d31e95233fd48216eed10/sacremoses-0.0.43.tar.gz (883kB)\n",
            "\u001b[K     |████████████████████████████████| 890kB 44.6MB/s \n",
            "\u001b[?25hRequirement already satisfied: dataclasses; python_version < \"3.7\" in /usr/local/lib/python3.6/dist-packages (from transformers<3.1.0,>=3.0.0->dpr==0.1.0) (0.7)\n",
            "Collecting sentencepiece!=0.1.92\n",
            "\u001b[?25l  Downloading https://files.pythonhosted.org/packages/e5/2d/6d4ca4bef9a67070fa1cac508606328329152b1df10bdf31fb6e4e727894/sentencepiece-0.1.94-cp36-cp36m-manylinux2014_x86_64.whl (1.1MB)\n",
            "\u001b[K     |████████████████████████████████| 1.1MB 39.1MB/s \n",
            "\u001b[?25hCollecting tokenizers==0.8.1.rc1\n",
            "\u001b[?25l  Downloading https://files.pythonhosted.org/packages/40/d0/30d5f8d221a0ed981a186c8eb986ce1c94e3a6e87f994eae9f4aa5250217/tokenizers-0.8.1rc1-cp36-cp36m-manylinux1_x86_64.whl (3.0MB)\n",
            "\u001b[K     |████████████████████████████████| 3.0MB 44.2MB/s \n",
            "\u001b[?25hRequirement already satisfied: requests in /usr/local/lib/python3.6/dist-packages (from transformers<3.1.0,>=3.0.0->dpr==0.1.0) (2.23.0)\n",
            "Requirement already satisfied: packaging in /usr/local/lib/python3.6/dist-packages (from transformers<3.1.0,>=3.0.0->dpr==0.1.0) (20.4)\n",
            "Requirement already satisfied: thinc==7.4.0 in /usr/local/lib/python3.6/dist-packages (from spacy>=2.1.8->dpr==0.1.0) (7.4.0)\n",
            "Requirement already satisfied: catalogue<1.1.0,>=0.0.7 in /usr/local/lib/python3.6/dist-packages (from spacy>=2.1.8->dpr==0.1.0) (1.0.0)\n",
            "Requirement already satisfied: srsly<1.1.0,>=1.0.2 in /usr/local/lib/python3.6/dist-packages (from spacy>=2.1.8->dpr==0.1.0) (1.0.2)\n",
            "Requirement already satisfied: plac<1.2.0,>=0.9.6 in /usr/local/lib/python3.6/dist-packages (from spacy>=2.1.8->dpr==0.1.0) (1.1.3)\n",
            "Requirement already satisfied: wasabi<1.1.0,>=0.4.0 in /usr/local/lib/python3.6/dist-packages (from spacy>=2.1.8->dpr==0.1.0) (0.8.0)\n",
            "Requirement already satisfied: murmurhash<1.1.0,>=0.28.0 in /usr/local/lib/python3.6/dist-packages (from spacy>=2.1.8->dpr==0.1.0) (1.0.2)\n",
            "Requirement already satisfied: blis<0.5.0,>=0.4.0 in /usr/local/lib/python3.6/dist-packages (from spacy>=2.1.8->dpr==0.1.0) (0.4.1)\n",
            "Requirement already satisfied: preshed<3.1.0,>=3.0.2 in /usr/local/lib/python3.6/dist-packages (from spacy>=2.1.8->dpr==0.1.0) (3.0.2)\n",
            "Requirement already satisfied: setuptools in /usr/local/lib/python3.6/dist-packages (from spacy>=2.1.8->dpr==0.1.0) (50.3.0)\n",
            "Requirement already satisfied: cymem<2.1.0,>=2.0.2 in /usr/local/lib/python3.6/dist-packages (from spacy>=2.1.8->dpr==0.1.0) (2.0.3)\n",
            "Requirement already satisfied: six in /usr/local/lib/python3.6/dist-packages (from sacremoses->transformers<3.1.0,>=3.0.0->dpr==0.1.0) (1.15.0)\n",
            "Requirement already satisfied: click in /usr/local/lib/python3.6/dist-packages (from sacremoses->transformers<3.1.0,>=3.0.0->dpr==0.1.0) (7.1.2)\n",
            "Requirement already satisfied: joblib in /usr/local/lib/python3.6/dist-packages (from sacremoses->transformers<3.1.0,>=3.0.0->dpr==0.1.0) (0.17.0)\n",
            "Requirement already satisfied: idna<3,>=2.5 in /usr/local/lib/python3.6/dist-packages (from requests->transformers<3.1.0,>=3.0.0->dpr==0.1.0) (2.10)\n",
            "Requirement already satisfied: urllib3!=1.25.0,!=1.25.1,<1.26,>=1.21.1 in /usr/local/lib/python3.6/dist-packages (from requests->transformers<3.1.0,>=3.0.0->dpr==0.1.0) (1.24.3)\n",
            "Requirement already satisfied: chardet<4,>=3.0.2 in /usr/local/lib/python3.6/dist-packages (from requests->transformers<3.1.0,>=3.0.0->dpr==0.1.0) (3.0.4)\n",
            "Requirement already satisfied: certifi>=2017.4.17 in /usr/local/lib/python3.6/dist-packages (from requests->transformers<3.1.0,>=3.0.0->dpr==0.1.0) (2020.6.20)\n",
            "Requirement already satisfied: pyparsing>=2.0.2 in /usr/local/lib/python3.6/dist-packages (from packaging->transformers<3.1.0,>=3.0.0->dpr==0.1.0) (2.4.7)\n",
            "Requirement already satisfied: importlib-metadata>=0.20; python_version < \"3.8\" in /usr/local/lib/python3.6/dist-packages (from catalogue<1.1.0,>=0.0.7->spacy>=2.1.8->dpr==0.1.0) (2.0.0)\n",
            "Requirement already satisfied: zipp>=0.5 in /usr/local/lib/python3.6/dist-packages (from importlib-metadata>=0.20; python_version < \"3.8\"->catalogue<1.1.0,>=0.0.7->spacy>=2.1.8->dpr==0.1.0) (3.3.1)\n",
            "Building wheels for collected packages: dpr, wget, sacremoses\n",
            "  Building wheel for dpr (setup.py) ... \u001b[?25l\u001b[?25hdone\n",
            "  Created wheel for dpr: filename=dpr-0.1.0-cp36-none-any.whl size=12891 sha256=cf9b5bc55406ea521614180d68b007e4eebbcd1e7568134dacc79de835244214\n",
            "  Stored in directory: /tmp/pip-ephem-wheel-cache-r9k963oq/wheels/7b/1b/8b/cbf33220fb7d3eb120e18f746a5b752ebc53f8523fb2eb0681\n",
            "  Building wheel for wget (setup.py) ... \u001b[?25l\u001b[?25hdone\n",
            "  Created wheel for wget: filename=wget-3.2-cp36-none-any.whl size=9682 sha256=0590e1a5961c568816db8bd6ec9a5b34b730f6cc524e2df346c6081be1b1f256\n",
            "  Stored in directory: /root/.cache/pip/wheels/40/15/30/7d8f7cea2902b4db79e3fea550d7d7b85ecb27ef992b618f3f\n",
            "  Building wheel for sacremoses (setup.py) ... \u001b[?25l\u001b[?25hdone\n",
            "  Created wheel for sacremoses: filename=sacremoses-0.0.43-cp36-none-any.whl size=893257 sha256=404b6803283982d7e83f1754ae35dbe4208f843894d8681ed58abcd5fcac2c61\n",
            "  Stored in directory: /root/.cache/pip/wheels/29/3c/fd/7ce5c3f0666dab31a50123635e6fb5e19ceb42ce38d4e58f45\n",
            "Successfully built dpr wget sacremoses\n",
            "Installing collected packages: faiss-cpu, sacremoses, sentencepiece, tokenizers, transformers, wget, dpr\n",
            "Successfully installed dpr-0.1.0 faiss-cpu-1.6.4 sacremoses-0.0.43 sentencepiece-0.1.94 tokenizers-0.8.1rc1 transformers-3.0.2 wget-3.2\n"
          ],
          "name": "stdout"
        },
        {
          "output_type": "execute_result",
          "data": {
            "text/plain": [
              ""
            ]
          },
          "metadata": {
            "tags": []
          },
          "execution_count": 2
        }
      ]
    },
    {
      "cell_type": "code",
      "metadata": {
        "id": "TC-eR9QMukM4",
        "outputId": "5262e0aa-a599-4ea5-8d28-47504ca11781",
        "colab": {
          "base_uri": "https://localhost:8080/",
          "height": 674
        }
      },
      "source": [
        "%%shell\n",
        "cd DPR\n",
        "python data/download_data.py --resource data.wikipedia_split.psgs_w100\n",
        "python data/download_data.py --resource data.retriever.nq\n",
        "python data/download_data.py --resource data.retriever.qas.nq"
      ],
      "execution_count": 3,
      "outputs": [
        {
          "output_type": "stream",
          "text": [
            "Loading from  https://dl.fbaipublicfiles.com/dpr/wikipedia_split/psgs_w100.tsv.gz\n",
            "Saved to  ./data/wikipedia_split/psgs_w100.tmp\n",
            "Uncompressing  ./data/wikipedia_split/psgs_w100.tmp\n",
            "/bin/bash: line 1:   173 Killed                  python data/download_data.py --resource data.wikipedia_split.psgs_w100\n",
            "Loading from  https://dl.fbaipublicfiles.com/dpr/data/retriever/biencoder-nq-dev.json.gz\n",
            "Saved to  ./data/retriever/nq-dev.tmp\n",
            "Uncompressing  ./data/retriever/nq-dev.tmp\n",
            "Saved to  ./data/retriever/nq-dev.json\n",
            "Loading from  https://dl.fbaipublicfiles.com/dpr/nq_license/LICENSE\n",
            "Saved to  ./data/retriever/LICENSE\n",
            "Loading from  https://dl.fbaipublicfiles.com/dpr/nq_license/README\n",
            "Saved to  ./data/retriever/README\n",
            "Loading from  https://dl.fbaipublicfiles.com/dpr/data/retriever/biencoder-nq-train.json.gz\n",
            "Saved to  ./data/retriever/nq-train.tmp\n",
            "Uncompressing  ./data/retriever/nq-train.tmp\n",
            "tcmalloc: large alloc 7373766656 bytes == 0x22ceb0000 @  0x7f81058fb1e7 0x59221c 0x598e86 0x5d762f 0x566daa 0x5a4df1 0x5a5eea 0x4ce082 0x50a47f 0x50c1f4 0x507f24 0x509c50 0x50a64d 0x50c1f4 0x509918 0x50a64d 0x50c1f4 0x509918 0x50a64d 0x50c1f4 0x507f24 0x509c50 0x50a64d 0x50c1f4 0x507f24 0x509c50 0x50a64d 0x50c1f4 0x509918 0x50a64d 0x50c1f4\n",
            "/bin/bash: line 2:   185 Killed                  python data/download_data.py --resource data.retriever.nq\n",
            "Loading from  https://dl.fbaipublicfiles.com/dpr/data/retriever/nq-dev.qa.csv\n",
            "Saved to  ./data/retriever/qas/nq-dev.csv\n",
            "Loading from  https://dl.fbaipublicfiles.com/dpr/nq_license/LICENSE\n",
            "Saved to  ./data/retriever/qas/LICENSE\n",
            "Loading from  https://dl.fbaipublicfiles.com/dpr/nq_license/README\n",
            "Saved to  ./data/retriever/qas/README\n",
            "Loading from  https://dl.fbaipublicfiles.com/dpr/data/retriever/nq-test.qa.csv\n",
            "Saved to  ./data/retriever/qas/nq-test.csv\n",
            "Loading from  https://dl.fbaipublicfiles.com/dpr/nq_license/LICENSE\n",
            "File already exist  ./data/retriever/qas/LICENSE\n",
            "Loading from  https://dl.fbaipublicfiles.com/dpr/nq_license/README\n",
            "File already exist  ./data/retriever/qas/README\n",
            "Loading from  https://dl.fbaipublicfiles.com/dpr/data/retriever/nq-train.qa.csv\n",
            "Saved to  ./data/retriever/qas/nq-train.csv\n",
            "Loading from  https://dl.fbaipublicfiles.com/dpr/nq_license/LICENSE\n",
            "File already exist  ./data/retriever/qas/LICENSE\n",
            "Loading from  https://dl.fbaipublicfiles.com/dpr/nq_license/README\n",
            "File already exist  ./data/retriever/qas/README\n"
          ],
          "name": "stdout"
        },
        {
          "output_type": "execute_result",
          "data": {
            "text/plain": [
              ""
            ]
          },
          "metadata": {
            "tags": []
          },
          "execution_count": 3
        }
      ]
    },
    {
      "cell_type": "code",
      "metadata": {
        "id": "me-dW5wdw8Bg",
        "outputId": "dac6d968-02f3-48aa-c395-2052cdd7b95c",
        "colab": {
          "base_uri": "https://localhost:8080/",
          "height": 1000
        }
      },
      "source": [
        "%%shell\n",
        "\n",
        "cd DPR\n",
        "# python train_reader.py \\\n",
        "#   --prediction_results_file results/results.json \\\n",
        "#   --eval_top_docs 10 20 40 50 80 100 \\\n",
        "#   --dev_file retriever_results \\\n",
        "#   --model_file checkpoint \\\n",
        "#   --dev_batch_size 80 \\\n",
        "#   --passages_per_question_predict 100 \\\n",
        "#   --sequence_length 350\n",
        "\n",
        "python train_reader.py \\\n",
        "  --prediction_results_file results/results.json \\\n",
        "  --eval_top_docs 10 20 40 50 80 100 \\\n",
        "  --dev_file retriever_results \\\n",
        "  # --model_file checkpoint \\\n",
        "  --dev_batch_size 80 \\\n",
        "  --passages_per_question_predict 100 \\\n",
        "  --sequence_length 350"
      ],
      "execution_count": 4,
      "outputs": [
        {
          "output_type": "stream",
          "text": [
            "Initialized host f3ccebee8d1e as d.rank -1 on device=cpu, n_gpu=0, world size=1\n",
            "16-bits training: False \n",
            " **************** CONFIGURATION **************** \n",
            "adam_betas                     -->   (0.9, 0.999)\n",
            "adam_eps                       -->   1e-08\n",
            "batch_size                     -->   2\n",
            "checkpoint_file_name           -->   dpr_reader\n",
            "dev_batch_size                 -->   4\n",
            "dev_file                       -->   retriever_results\n",
            "device                         -->   cpu\n",
            "distributed_world_size         -->   1\n",
            "do_lower_case                  -->   False\n",
            "dropout                        -->   0.1\n",
            "encoder_model_type             -->   None\n",
            "eval_step                      -->   2000\n",
            "eval_top_docs                  -->   [10, 20, 40, 50, 80, 100]\n",
            "fp16                           -->   False\n",
            "fp16_opt_level                 -->   O1\n",
            "fully_resumable                -->   False\n",
            "gold_passages_src              -->   None\n",
            "gold_passages_src_dev          -->   None\n",
            "gradient_accumulation_steps    -->   1\n",
            "learning_rate                  -->   1e-05\n",
            "local_rank                     -->   -1\n",
            "log_batch_step                 -->   100\n",
            "max_answer_length              -->   10\n",
            "max_grad_norm                  -->   1.0\n",
            "max_n_answers                  -->   10\n",
            "model_file                     -->   None\n",
            "n_gpu                          -->   0\n",
            "no_cuda                        -->   False\n",
            "num_train_epochs               -->   3.0\n",
            "num_workers                    -->   16\n",
            "output_dir                     -->   None\n",
            "passages_per_question          -->   2\n",
            "passages_per_question_predict  -->   50\n",
            "prediction_results_file        -->   results/results.json\n",
            "pretrained_file                -->   None\n",
            "pretrained_model_cfg           -->   None\n",
            "projection_dim                 -->   0\n",
            "seed                           -->   0\n",
            "sequence_length                -->   512\n",
            "train_file                     -->   None\n",
            "train_rolling_loss_step        -->   100\n",
            "warmup_steps                   -->   100\n",
            "weight_decay                   -->   0.0\n",
            " **************** CONFIGURATION **************** \n",
            "***** Initializing components for training *****\n",
            "Checkpoint files []\n",
            "Traceback (most recent call last):\n",
            "  File \"train_reader.py\", line 507, in <module>\n",
            "    main()\n",
            "  File \"train_reader.py\", line 495, in main\n",
            "    trainer = ReaderTrainer(args)\n",
            "  File \"train_reader.py\", line 61, in __init__\n",
            "    tensorizer, reader, optimizer = init_reader_components(args.encoder_model_type, args)\n",
            "  File \"/content/DPR/dpr/models/__init__.py\", line 87, in init_reader_components\n",
            "    return init_comp(READER_INITIALIZERS, encoder_type, args, **kwargs)\n",
            "  File \"/content/DPR/dpr/models/__init__.py\", line 79, in init_comp\n",
            "    raise RuntimeError('unsupported model type: {}'.format(type))\n",
            "RuntimeError: unsupported model type: None\n",
            "/bin/bash: line 16: --dev_batch_size: command not found\n"
          ],
          "name": "stdout"
        },
        {
          "output_type": "error",
          "ename": "CalledProcessError",
          "evalue": "ignored",
          "traceback": [
            "\u001b[0;31m---------------------------------------------------------------------------\u001b[0m",
            "\u001b[0;31mCalledProcessError\u001b[0m                        Traceback (most recent call last)",
            "\u001b[0;32m<ipython-input-4-8f0de8213432>\u001b[0m in \u001b[0;36m<module>\u001b[0;34m()\u001b[0m\n\u001b[0;32m----> 1\u001b[0;31m \u001b[0mget_ipython\u001b[0m\u001b[0;34m(\u001b[0m\u001b[0;34m)\u001b[0m\u001b[0;34m.\u001b[0m\u001b[0mrun_cell_magic\u001b[0m\u001b[0;34m(\u001b[0m\u001b[0;34m'shell'\u001b[0m\u001b[0;34m,\u001b[0m \u001b[0;34m''\u001b[0m\u001b[0;34m,\u001b[0m \u001b[0;34m'\\ncd DPR\\n# python train_reader.py \\\\\\n#   --prediction_results_file results/results.json \\\\\\n#   --eval_top_docs 10 20 40 50 80 100 \\\\\\n#   --dev_file retriever_results \\\\\\n#   --model_file checkpoint \\\\\\n#   --dev_batch_size 80 \\\\\\n#   --passages_per_question_predict 100 \\\\\\n#   --sequence_length 350\\n\\npython train_reader.py \\\\\\n  --prediction_results_file results/results.json \\\\\\n  --eval_top_docs 10 20 40 50 80 100 \\\\\\n  --dev_file retriever_results \\\\\\n  # --model_file checkpoint \\\\\\n  --dev_batch_size 80 \\\\\\n  --passages_per_question_predict 100 \\\\\\n  --sequence_length 350'\u001b[0m\u001b[0;34m)\u001b[0m\u001b[0;34m\u001b[0m\u001b[0;34m\u001b[0m\u001b[0m\n\u001b[0m",
            "\u001b[0;32m/usr/local/lib/python3.6/dist-packages/IPython/core/interactiveshell.py\u001b[0m in \u001b[0;36mrun_cell_magic\u001b[0;34m(self, magic_name, line, cell)\u001b[0m\n\u001b[1;32m   2115\u001b[0m             \u001b[0mmagic_arg_s\u001b[0m \u001b[0;34m=\u001b[0m \u001b[0mself\u001b[0m\u001b[0;34m.\u001b[0m\u001b[0mvar_expand\u001b[0m\u001b[0;34m(\u001b[0m\u001b[0mline\u001b[0m\u001b[0;34m,\u001b[0m \u001b[0mstack_depth\u001b[0m\u001b[0;34m)\u001b[0m\u001b[0;34m\u001b[0m\u001b[0;34m\u001b[0m\u001b[0m\n\u001b[1;32m   2116\u001b[0m             \u001b[0;32mwith\u001b[0m \u001b[0mself\u001b[0m\u001b[0;34m.\u001b[0m\u001b[0mbuiltin_trap\u001b[0m\u001b[0;34m:\u001b[0m\u001b[0;34m\u001b[0m\u001b[0;34m\u001b[0m\u001b[0m\n\u001b[0;32m-> 2117\u001b[0;31m                 \u001b[0mresult\u001b[0m \u001b[0;34m=\u001b[0m \u001b[0mfn\u001b[0m\u001b[0;34m(\u001b[0m\u001b[0mmagic_arg_s\u001b[0m\u001b[0;34m,\u001b[0m \u001b[0mcell\u001b[0m\u001b[0;34m)\u001b[0m\u001b[0;34m\u001b[0m\u001b[0;34m\u001b[0m\u001b[0m\n\u001b[0m\u001b[1;32m   2118\u001b[0m             \u001b[0;32mreturn\u001b[0m \u001b[0mresult\u001b[0m\u001b[0;34m\u001b[0m\u001b[0;34m\u001b[0m\u001b[0m\n\u001b[1;32m   2119\u001b[0m \u001b[0;34m\u001b[0m\u001b[0m\n",
            "\u001b[0;32m/usr/local/lib/python3.6/dist-packages/google/colab/_system_commands.py\u001b[0m in \u001b[0;36m_shell_cell_magic\u001b[0;34m(args, cmd)\u001b[0m\n\u001b[1;32m    110\u001b[0m   \u001b[0mresult\u001b[0m \u001b[0;34m=\u001b[0m \u001b[0m_run_command\u001b[0m\u001b[0;34m(\u001b[0m\u001b[0mcmd\u001b[0m\u001b[0;34m,\u001b[0m \u001b[0mclear_streamed_output\u001b[0m\u001b[0;34m=\u001b[0m\u001b[0;32mFalse\u001b[0m\u001b[0;34m)\u001b[0m\u001b[0;34m\u001b[0m\u001b[0;34m\u001b[0m\u001b[0m\n\u001b[1;32m    111\u001b[0m   \u001b[0;32mif\u001b[0m \u001b[0;32mnot\u001b[0m \u001b[0mparsed_args\u001b[0m\u001b[0;34m.\u001b[0m\u001b[0mignore_errors\u001b[0m\u001b[0;34m:\u001b[0m\u001b[0;34m\u001b[0m\u001b[0;34m\u001b[0m\u001b[0m\n\u001b[0;32m--> 112\u001b[0;31m     \u001b[0mresult\u001b[0m\u001b[0;34m.\u001b[0m\u001b[0mcheck_returncode\u001b[0m\u001b[0;34m(\u001b[0m\u001b[0;34m)\u001b[0m\u001b[0;34m\u001b[0m\u001b[0;34m\u001b[0m\u001b[0m\n\u001b[0m\u001b[1;32m    113\u001b[0m   \u001b[0;32mreturn\u001b[0m \u001b[0mresult\u001b[0m\u001b[0;34m\u001b[0m\u001b[0;34m\u001b[0m\u001b[0m\n\u001b[1;32m    114\u001b[0m \u001b[0;34m\u001b[0m\u001b[0m\n",
            "\u001b[0;32m/usr/local/lib/python3.6/dist-packages/google/colab/_system_commands.py\u001b[0m in \u001b[0;36mcheck_returncode\u001b[0;34m(self)\u001b[0m\n\u001b[1;32m    136\u001b[0m     \u001b[0;32mif\u001b[0m \u001b[0mself\u001b[0m\u001b[0;34m.\u001b[0m\u001b[0mreturncode\u001b[0m\u001b[0;34m:\u001b[0m\u001b[0;34m\u001b[0m\u001b[0;34m\u001b[0m\u001b[0m\n\u001b[1;32m    137\u001b[0m       raise subprocess.CalledProcessError(\n\u001b[0;32m--> 138\u001b[0;31m           returncode=self.returncode, cmd=self.args, output=self.output)\n\u001b[0m\u001b[1;32m    139\u001b[0m \u001b[0;34m\u001b[0m\u001b[0m\n\u001b[1;32m    140\u001b[0m   \u001b[0;32mdef\u001b[0m \u001b[0m_repr_pretty_\u001b[0m\u001b[0;34m(\u001b[0m\u001b[0mself\u001b[0m\u001b[0;34m,\u001b[0m \u001b[0mp\u001b[0m\u001b[0;34m,\u001b[0m \u001b[0mcycle\u001b[0m\u001b[0;34m)\u001b[0m\u001b[0;34m:\u001b[0m  \u001b[0;31m# pylint:disable=unused-argument\u001b[0m\u001b[0;34m\u001b[0m\u001b[0;34m\u001b[0m\u001b[0m\n",
            "\u001b[0;31mCalledProcessError\u001b[0m: Command '\ncd DPR\n# python train_reader.py \\\n#   --prediction_results_file results/results.json \\\n#   --eval_top_docs 10 20 40 50 80 100 \\\n#   --dev_file retriever_results \\\n#   --model_file checkpoint \\\n#   --dev_batch_size 80 \\\n#   --passages_per_question_predict 100 \\\n#   --sequence_length 350\n\npython train_reader.py \\\n  --prediction_results_file results/results.json \\\n  --eval_top_docs 10 20 40 50 80 100 \\\n  --dev_file retriever_results \\\n  # --model_file checkpoint \\\n  --dev_batch_size 80 \\\n  --passages_per_question_predict 100 \\\n  --sequence_length 350' returned non-zero exit status 127."
          ]
        }
      ]
    }
  ]
}